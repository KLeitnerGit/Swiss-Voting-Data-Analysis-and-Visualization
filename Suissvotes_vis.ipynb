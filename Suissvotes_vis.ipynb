{
 "cells": [
  {
   "cell_type": "markdown",
   "id": "ce4c5412",
   "metadata": {},
   "source": [
    "# Swiss Voting Data Analysis and Visualization (1848-2023)\n",
    "\n",
    "This interactive graph allows to explore extreme Suiss voting results over the years. It emphasizes  the 95th and 5th quantiles of voting data to highlight the most and least the most and least supported votes over time, in relationship to the sum of the voter shares of all parties that recommended their voters to vote \"Yes\" (\"yes camp\") represented by the color of the points.\n",
    "\n",
    "One interesting extreme example thereby is \"Der Beschluss für den Einbau von Luftschutzräumen\" (\"The decision for the installation of air raid shelters\") in 1952: Although the \"yes camp\" counts for around 60%, it received only 15.9% popular acceptance. Finally, the highest popular acceptance (94%) got the Constitutional basis for a one-time war tax in 1915, while the lowest popular acceptance (2,7%) got the Grain precaution initiative in 1929.\n",
    "\n",
    "The data used for this purpose comes from the University of Bern. The Année Politique Suisse, based there, maintains a comprehensive data set(Swissvotes) on all votes that have taken place since the founding of\n",
    "the modern federal state in 1848 (<https://swissvotes.ch/page/dataset>) to 2023. "
   ]
  },
  {
   "cell_type": "code",
   "execution_count": 53,
   "id": "0c9b6065",
   "metadata": {},
   "outputs": [
    {
     "data": {
      "text/html": [
       "\n",
       "        <iframe\n",
       "            width=\"100%\"\n",
       "            height=\"650\"\n",
       "            src=\"http://127.0.0.1:8050/\"\n",
       "            frameborder=\"0\"\n",
       "            allowfullscreen\n",
       "            \n",
       "        ></iframe>\n",
       "        "
      ],
      "text/plain": [
       "<IPython.lib.display.IFrame at 0x7fc2b892f3a0>"
      ]
     },
     "metadata": {},
     "output_type": "display_data"
    }
   ],
   "source": [
    "import pandas as pd\n",
    "import plotly.express as px\n",
    "import warnings\n",
    "from dash import Dash, dcc, html\n",
    "from base64 import b64encode\n",
    "import io\n",
    "\n",
    "warnings.filterwarnings(\"ignore\")\n",
    "\n",
    "# Read and preprocess data\n",
    "df2 = pd.read_csv(\"SuissVotes_EN.csv\")\n",
    "df2 = df2.drop('Unnamed: 0', axis=1)\n",
    "df2 = df2.drop(columns=['titel_kurz_e'])\n",
    "\n",
    "# Get  the most and least supported votes\n",
    "most_supported = df2['volkja-proz'].quantile(0.95)\n",
    "least_supported = df2['volkja-proz'].quantile(0.05)\n",
    "filtered_df = df2[(df2['volkja-proz'] >= most_supported) | (df2['volkja-proz'] <= least_supported)]\n",
    "\n",
    "# Create an interactive scatter plot\n",
    "fig = px.scatter(\n",
    "    filtered_df,\n",
    "    x='year',\n",
    "    y='volkja-proz',\n",
    "    color='ja-lager',\n",
    "    color_continuous_scale='BrBG',\n",
    "    labels={'year': 'Year', 'ja-lager': 'Yes camp', 'titel EN': 'Titel', 'volkja-proz':'Percentage of yes-votes'},\n",
    "    title='Most and least supported Suiss votes over time (95%- and 5%-quantile)',\n",
    "    hover_data=['titel EN', 'swissvoteslink'],\n",
    ")\n",
    "\n",
    "# Convert plotly figure to HTML string\n",
    "buffer = io.StringIO()\n",
    "fig.write_html(buffer)\n",
    "html_bytes = buffer.getvalue().encode()\n",
    "encoded = b64encode(html_bytes).decode()\n",
    "\n",
    "# Dash app\n",
    "app = Dash(__name__)\n",
    "app.layout = html.Div([\n",
    "    dcc.Graph(id=\"graph\", figure=fig),\n",
    "    html.A(\n",
    "        html.Button(\"Download as HTML\"), \n",
    "        id=\"download\",\n",
    "        href=\"data:text/html;base64,\" + encoded,\n",
    "        download=\"ExtremeSuissVotes.html\"\n",
    "    )\n",
    "])\n",
    "\n",
    "# Run server\n",
    "app.run_server(debug=True)\n"
   ]
  },
  {
   "cell_type": "code",
   "execution_count": 45,
   "id": "09f59c72",
   "metadata": {},
   "outputs": [
    {
     "data": {
      "text/html": [
       "<script>\n",
       "code_show=true; \n",
       "function code_toggle() {\n",
       " if (code_show){\n",
       " $('div.input').hide();\n",
       " } else {\n",
       " $('div.input').show();\n",
       " }\n",
       " code_show = !code_show\n",
       "} \n",
       "$( document ).ready(code_toggle);\n",
       "</script>\n",
       "<form action=\"javascript:code_toggle()\"><input type=\"submit\" value=\"Click here to toggle on/off the raw code.\"></form>"
      ],
      "text/plain": [
       "<IPython.core.display.HTML object>"
      ]
     },
     "execution_count": 45,
     "metadata": {},
     "output_type": "execute_result"
    }
   ],
   "source": [
    "from IPython.display import HTML\n",
    "\n",
    "HTML('''<script>\n",
    "code_show=true; \n",
    "function code_toggle() {\n",
    " if (code_show){\n",
    " $('div.input').hide();\n",
    " } else {\n",
    " $('div.input').show();\n",
    " }\n",
    " code_show = !code_show\n",
    "} \n",
    "$( document ).ready(code_toggle);\n",
    "</script>\n",
    "<form action=\"javascript:code_toggle()\"><input type=\"submit\" value=\"Click here to toggle on/off the raw code.\"></form>''')"
   ]
  },
  {
   "cell_type": "code",
   "execution_count": null,
   "id": "aff800ab",
   "metadata": {},
   "outputs": [],
   "source": []
  }
 ],
 "metadata": {
  "kernelspec": {
   "display_name": "Python 3 (ipykernel)",
   "language": "python",
   "name": "python3"
  },
  "language_info": {
   "codemirror_mode": {
    "name": "ipython",
    "version": 3
   },
   "file_extension": ".py",
   "mimetype": "text/x-python",
   "name": "python",
   "nbconvert_exporter": "python",
   "pygments_lexer": "ipython3",
   "version": "3.10.9"
  },
  "nbTranslate": {
   "displayLangs": [
    "*"
   ],
   "hotkey": "alt-t",
   "langInMainMenu": true,
   "sourceLang": "en",
   "targetLang": "fr",
   "useGoogleTranslate": true
  },
  "toc": {
   "base_numbering": 1,
   "nav_menu": {},
   "number_sections": true,
   "sideBar": true,
   "skip_h1_title": false,
   "title_cell": "Table of Contents",
   "title_sidebar": "Contents",
   "toc_cell": true,
   "toc_position": {},
   "toc_section_display": true,
   "toc_window_display": false
  }
 },
 "nbformat": 4,
 "nbformat_minor": 5
}
